{
 "cells": [
  {
   "cell_type": "code",
   "execution_count": 299,
   "id": "028d1cd4",
   "metadata": {},
   "outputs": [],
   "source": [
    "import requests as r\n",
    "from hurry.filesize import size\n",
    "import base64, json, re"
   ]
  },
  {
   "cell_type": "code",
   "execution_count": 305,
   "id": "cb1887bd",
   "metadata": {},
   "outputs": [],
   "source": [
    "domain = \"https://apis.hashhackers.com/37:/[Anime%20Time]/[Anime%20Time]%20Attack%20on%20Titan%20S01+02+03+04%20(Part%201)%20+OVA%20[BD][Dual%20Audio][1080p][HEVC%2010bit%20x265][AAC][Eng%20Sub]/\"\n",
    "download_domain = \"https://in.ilovelovestories18004190156.workers.dev\"\n",
    "final_response = []\n",
    "folder = []\n",
    "file = []\n",
    "pagetoken = \"\""
   ]
  },
  {
   "cell_type": "code",
   "execution_count": 301,
   "id": "c7cf6bf7",
   "metadata": {},
   "outputs": [],
   "source": [
    "def send_request(url, pagetoken=\"\"):\n",
    "    body ={\"password\": \"\",\n",
    "       \"page_token\": pagetoken,\n",
    "       \"page_index\": \"0\",}\n",
    "    res = r.post(url, data=body)\n",
    "\n",
    "    if res.status_code == 200:\n",
    "        response = json.loads(base64.b64decode(res.text[::-1][24:-20]).decode('utf-8'))\n",
    "        print(f\"page token = {pagetoken}\")\n",
    "        print(f\"Request Successfull. - {url}\")\n",
    "        return response\n",
    "    else:\n",
    "        print(f\"Error {res.status_code}\")\n",
    "\n",
    "\n",
    "def crawl(url):\n",
    "    \n",
    "    response = send_request(url)\n",
    "    tempres = []\n",
    "        \n",
    "    for data in response[\"data\"][\"files\"]:\n",
    "            final_response.append(data)\n",
    "            tempres.append(data)\n",
    "            \n",
    "    for data in tempres:\n",
    "        if data[\"mimeType\"] != \"application/vnd.google-apps.folder\":\n",
    "            links.append(f\"{url}{data['name']}\")\n",
    "        else:\n",
    "            pass\n",
    "    \n",
    "    if response[\"nextPageToken\"] != None:\n",
    "        pagetoken = response[\"nextPageToken\"]\n",
    "        print(\"page token found.\")\n",
    "        while pagetoken != None:\n",
    "            response = send_request(url, response[\"nextPageToken\"])\n",
    "            for subdata in response[\"data\"][\"files\"]:\n",
    "                tempres2 = []\n",
    "                final_response.append(subdata)\n",
    "                tempres2.append(subdata)\n",
    "                \n",
    "                pagetoken = response[\"nextPageToken\"]\n",
    "                for data in tempres2:\n",
    "                    if data[\"mimeType\"] != \"application/vnd.google-apps.folder\":\n",
    "                        links.append(f\"{url}{data['name']}\")\n",
    "                    else:\n",
    "                        pass"
   ]
  },
  {
   "cell_type": "code",
   "execution_count": 312,
   "id": "1b2c50f4",
   "metadata": {},
   "outputs": [
    {
     "name": "stdout",
     "output_type": "stream",
     "text": [
      "page token = \n",
      "Request Successfull. - https://apis.hashhackers.com/37:/[Anime%20Time]/[Anime%20Time]%20Attack%20on%20Titan%20S01+02+03+04%20(Part%201)%20+OVA%20[BD][Dual%20Audio][1080p][HEVC%2010bit%20x265][AAC][Eng%20Sub]/Attack on titan/\n",
      "page token = \n",
      "Request Successfull. - https://apis.hashhackers.com/37:/[Anime%20Time]/[Anime%20Time]%20Attack%20on%20Titan%20S01+02+03+04%20(Part%201)%20+OVA%20[BD][Dual%20Audio][1080p][HEVC%2010bit%20x265][AAC][Eng%20Sub]/Attack on titan/Extras/\n",
      "\n",
      "Links/Files - 29\n"
     ]
    }
   ],
   "source": [
    "folders = 0\n",
    "files = 0\n",
    "folder = []\n",
    "file = []\n",
    "links= []\n",
    "final_response = []\n",
    "crawl(domain)\n",
    "for data in final_response:\n",
    "    if data[\"mimeType\"] != \"application/vnd.google-apps.folder\":\n",
    "        file.append(data[\"name\"])\n",
    "    else:\n",
    "        folder.append(data[\"name\"])\n",
    "\n",
    "for foldername in folder:\n",
    "    foldres = []\n",
    "    url = f\"{domain}{foldername}/\"\n",
    "    folderdata = crawl(url)\n",
    "    for data in final_response:\n",
    "        if data[\"mimeType\"] != \"application/vnd.google-apps.folder\":\n",
    "            file.append(data[\"name\"])\n",
    "            \n",
    "ddl_links = links\n",
    "geturl = re.findall('https?://(?:[-\\w.]|(?:%[\\da-fA-F]{2}))+', domain)\n",
    "ddl_links = [l.replace(geturl[0], download_domain) for l in ddl_links]\n",
    "with open('links.txt', 'w') as f:\n",
    "    for item in ddl_links:\n",
    "        f.write(\"%s\\n\" % item)\n",
    "        \n",
    "print()\n",
    "print(f\"Links/Files - {len(links)}\")"
   ]
  }
 ],
 "metadata": {
  "kernelspec": {
   "display_name": "Python 3 (ipykernel)",
   "language": "python",
   "name": "python3"
  },
  "language_info": {
   "codemirror_mode": {
    "name": "ipython",
    "version": 3
   },
   "file_extension": ".py",
   "mimetype": "text/x-python",
   "name": "python",
   "nbconvert_exporter": "python",
   "pygments_lexer": "ipython3",
   "version": "3.8.10"
  }
 },
 "nbformat": 4,
 "nbformat_minor": 5
}
